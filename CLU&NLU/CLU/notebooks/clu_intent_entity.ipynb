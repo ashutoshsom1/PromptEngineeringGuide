{
 "cells": [
  {
   "cell_type": "markdown",
   "id": "f7ca0d80",
   "metadata": {},
   "source": [
    "# Conversational Language Understanding: Intent Detection & Entity Extraction\n",
    "\n",
    "This notebook demonstrates how to use Hugging Face Transformers for intent detection and entity extraction in conversational text."
   ]
  },
  {
   "cell_type": "code",
   "execution_count": null,
   "id": "0379694c",
   "metadata": {},
   "outputs": [],
   "source": [
    "# Install required packages\n",
    "!pip install transformers torch"
   ]
  },
  {
   "cell_type": "markdown",
   "id": "8880956d",
   "metadata": {},
   "source": [
    "## Intent Detection\n",
    "\n",
    "Intent detection helps identify what a user wants to accomplish with their utterance. We'll use zero-shot classification to determine the intent without training a specific model."
   ]
  },
  {
   "cell_type": "code",
   "execution_count": null,
   "id": "4d5decf1",
   "metadata": {},
   "outputs": [],
   "source": [
    "from transformers import pipeline\n",
    "\n",
    "# Initialize the zero-shot classification pipeline for intent detection\n",
    "intent_classifier = pipeline('zero-shot-classification', model='facebook/bart-large-mnli')\n",
    "\n",
    "# Define possible intents\n",
    "candidate_labels = ['book_flight', 'check_weather', 'play_music', 'order_food', 'cancel_booking', 'get_directions']\n",
    "\n",
    "# Example user utterance\n",
    "text = \"I want to book a flight to Paris next week.\"\n",
    "\n",
    "# Perform intent detection\n",
    "result = intent_classifier(text, candidate_labels)\n",
    "\n",
    "print(\"User Input:\", text)\n",
    "print(\"\\nIntent Classification Results:\")\n",
    "for label, score in zip(result['labels'], result['scores']):\n",
    "    print(f\"  {label}: {score:.4f}\")\n",
    "print(f\"\\nPredicted Intent: {result['labels'][0]} (confidence: {result['scores'][0]:.4f})\")"
   ]
  },
  {
   "cell_type": "markdown",
   "id": "d3f72841",
   "metadata": {},
   "source": [
    "## Entity Extraction\n",
    "\n",
    "Entity extraction identifies and extracts specific pieces of information (entities) from user input, such as locations, dates, names, etc."
   ]
  },
  {
   "cell_type": "code",
   "execution_count": null,
   "id": "97c83c1c",
   "metadata": {},
   "outputs": [],
   "source": [
    "# Initialize the NER pipeline for entity extraction\n",
    "ner_pipeline = pipeline('ner', model='dbmdz/bert-large-cased-finetuned-conll03-english', grouped_entities=True)\n",
    "\n",
    "# Example text with various entities\n",
    "text = \"Book a flight from New York to Paris on June 10th for John Smith.\"\n",
    "\n",
    "# Extract entities\n",
    "entities = ner_pipeline(text)\n",
    "\n",
    "print(\"User Input:\", text)\n",
    "print(\"\\nExtracted Entities:\")\n",
    "for entity in entities:\n",
    "    print(f\"  {entity['word']}: {entity['entity_group']} (confidence: {entity['score']:.4f})\")\n",
    "\n",
    "# Additional example with more complex entities\n",
    "print(\"\\n\" + \"=\"*50)\n",
    "text2 = \"I need to cancel my reservation at the Hilton Hotel in London for tomorrow at 7 PM.\"\n",
    "entities2 = ner_pipeline(text2)\n",
    "\n",
    "print(\"User Input:\", text2)\n",
    "print(\"\\nExtracted Entities:\")\n",
    "for entity in entities2:\n",
    "    print(f\"  {entity['word']}: {entity['entity_group']} (confidence: {entity['score']:.4f})\")"
   ]
  },
  {
   "cell_type": "markdown",
   "id": "175fade2",
   "metadata": {},
   "source": [
    "## Combined CLU Example\n",
    "\n",
    "Let's combine both intent detection and entity extraction to create a complete conversational language understanding system."
   ]
  },
  {
   "cell_type": "code",
   "execution_count": null,
   "id": "1b82f58a",
   "metadata": {},
   "outputs": [],
   "source": [
    "def analyze_user_input(text, intent_labels=None):\n",
    "    \"\"\"\n",
    "    Complete CLU analysis combining intent detection and entity extraction\n",
    "    \"\"\"\n",
    "    if intent_labels is None:\n",
    "        intent_labels = ['book_flight', 'check_weather', 'play_music', 'order_food', \n",
    "                        'cancel_booking', 'get_directions', 'make_reservation']\n",
    "    \n",
    "    # Intent Detection\n",
    "    intent_result = intent_classifier(text, intent_labels)\n",
    "    \n",
    "    # Entity Extraction\n",
    "    entities = ner_pipeline(text)\n",
    "    \n",
    "    # Format results\n",
    "    analysis = {\n",
    "        'input': text,\n",
    "        'intent': {\n",
    "            'predicted': intent_result['labels'][0],\n",
    "            'confidence': intent_result['scores'][0],\n",
    "            'all_scores': dict(zip(intent_result['labels'], intent_result['scores']))\n",
    "        },\n",
    "        'entities': [\n",
    "            {\n",
    "                'text': entity['word'],\n",
    "                'label': entity['entity_group'],\n",
    "                'confidence': entity['score']\n",
    "            }\n",
    "            for entity in entities\n",
    "        ]\n",
    "    }\n",
    "    \n",
    "    return analysis\n",
    "\n",
    "# Test the combined function\n",
    "test_utterances = [\n",
    "    \"I want to book a flight from New York to Tokyo on December 15th\",\n",
    "    \"What's the weather like in San Francisco today?\",\n",
    "    \"Play some jazz music by Miles Davis\",\n",
    "    \"Cancel my dinner reservation at Le Bernardin for tonight\"\n",
    "]\n",
    "\n",
    "for utterance in test_utterances:\n",
    "    print(\"=\"*60)\n",
    "    result = analyze_user_input(utterance)\n",
    "    \n",
    "    print(f\"Input: {result['input']}\")\n",
    "    print(f\"Intent: {result['intent']['predicted']} (confidence: {result['intent']['confidence']:.4f})\")\n",
    "    print(\"Entities:\")\n",
    "    for entity in result['entities']:\n",
    "        print(f\"  - {entity['text']}: {entity['label']} ({entity['confidence']:.4f})\")\n",
    "    print()"
   ]
  },
  {
   "cell_type": "markdown",
   "id": "3cf56dd7",
   "metadata": {},
   "source": [
    "## Interactive Experimentation\n",
    "\n",
    "Try modifying the text and candidate labels below to experiment with different CLU scenarios. You can add your own intents and test various user utterances."
   ]
  },
  {
   "cell_type": "code",
   "execution_count": null,
   "id": "5504b900",
   "metadata": {},
   "outputs": [],
   "source": [
    "# Experiment with your own examples\n",
    "# Modify these variables to test different scenarios\n",
    "\n",
    "# Your custom intent labels\n",
    "custom_intents = [\n",
    "    'book_flight', 'check_weather', 'play_music', 'order_food',\n",
    "    'make_reservation', 'cancel_booking', 'get_directions', 'set_reminder'\n",
    "]\n",
    "\n",
    "# Your test utterance\n",
    "user_input = \"Remind me to call my doctor tomorrow at 3 PM\"\n",
    "\n",
    "# Analyze the input\n",
    "result = analyze_user_input(user_input, custom_intents)\n",
    "\n",
    "print(\"🎯 CLU Analysis Results\")\n",
    "print(\"=\"*40)\n",
    "print(f\"📝 Input: {result['input']}\")\n",
    "print(f\"🎯 Intent: {result['intent']['predicted']}\")\n",
    "print(f\"📊 Confidence: {result['intent']['confidence']:.4f}\")\n",
    "print(\"\\n🏷️  Entities Found:\")\n",
    "if result['entities']:\n",
    "    for entity in result['entities']:\n",
    "        print(f\"   • {entity['text']} → {entity['label']} ({entity['confidence']:.4f})\")\n",
    "else:\n",
    "    print(\"   • No entities detected\")\n",
    "\n",
    "print(\"\\n📈 All Intent Scores:\")\n",
    "for intent, score in list(result['intent']['all_scores'].items())[:5]:  # Top 5\n",
    "    print(f\"   • {intent}: {score:.4f}\")"
   ]
  }
 ],
 "metadata": {
  "language_info": {
   "name": "python"
  }
 },
 "nbformat": 4,
 "nbformat_minor": 5
}
