{
 "cells": [
  {
   "cell_type": "markdown",
   "id": "f7ca0d80",
   "metadata": {},
   "source": [
    "# Conversational Language Understanding: Intent Detection & Entity Extraction\n",
    "\n",
    "This notebook demonstrates how to use Hugging Face Transformers for intent detection and entity extraction in conversational text."
   ]
  },
  {
   "cell_type": "code",
   "execution_count": 1,
   "id": "0379694c",
   "metadata": {},
   "outputs": [
    {
     "name": "stdout",
     "output_type": "stream",
     "text": [
      "Requirement already satisfied: transformers in c:\\users\\ashutosh.somvanshi\\documents\\augment-projects\\promptengineeringguide\\.venv\\lib\\site-packages (4.52.4)\n",
      "Requirement already satisfied: torch in c:\\users\\ashutosh.somvanshi\\documents\\augment-projects\\promptengineeringguide\\.venv\\lib\\site-packages (2.7.1)\n",
      "Requirement already satisfied: filelock in c:\\users\\ashutosh.somvanshi\\documents\\augment-projects\\promptengineeringguide\\.venv\\lib\\site-packages (from transformers) (3.18.0)\n",
      "Requirement already satisfied: huggingface-hub<1.0,>=0.30.0 in c:\\users\\ashutosh.somvanshi\\documents\\augment-projects\\promptengineeringguide\\.venv\\lib\\site-packages (from transformers) (0.33.0)\n",
      "Requirement already satisfied: numpy>=1.17 in c:\\users\\ashutosh.somvanshi\\documents\\augment-projects\\promptengineeringguide\\.venv\\lib\\site-packages (from transformers) (2.2.6)\n",
      "Requirement already satisfied: packaging>=20.0 in c:\\users\\ashutosh.somvanshi\\documents\\augment-projects\\promptengineeringguide\\.venv\\lib\\site-packages (from transformers) (25.0)\n",
      "Requirement already satisfied: pyyaml>=5.1 in c:\\users\\ashutosh.somvanshi\\documents\\augment-projects\\promptengineeringguide\\.venv\\lib\\site-packages (from transformers) (6.0.2)\n",
      "Requirement already satisfied: regex!=2019.12.17 in c:\\users\\ashutosh.somvanshi\\documents\\augment-projects\\promptengineeringguide\\.venv\\lib\\site-packages (from transformers) (2024.11.6)\n",
      "Requirement already satisfied: requests in c:\\users\\ashutosh.somvanshi\\documents\\augment-projects\\promptengineeringguide\\.venv\\lib\\site-packages (from transformers) (2.32.4)\n",
      "Requirement already satisfied: tokenizers<0.22,>=0.21 in c:\\users\\ashutosh.somvanshi\\documents\\augment-projects\\promptengineeringguide\\.venv\\lib\\site-packages (from transformers) (0.21.2)\n",
      "Requirement already satisfied: safetensors>=0.4.3 in c:\\users\\ashutosh.somvanshi\\documents\\augment-projects\\promptengineeringguide\\.venv\\lib\\site-packages (from transformers) (0.5.3)\n",
      "Requirement already satisfied: tqdm>=4.27 in c:\\users\\ashutosh.somvanshi\\documents\\augment-projects\\promptengineeringguide\\.venv\\lib\\site-packages (from transformers) (4.67.1)\n",
      "Requirement already satisfied: fsspec>=2023.5.0 in c:\\users\\ashutosh.somvanshi\\documents\\augment-projects\\promptengineeringguide\\.venv\\lib\\site-packages (from huggingface-hub<1.0,>=0.30.0->transformers) (2025.5.1)\n",
      "Requirement already satisfied: typing-extensions>=3.7.4.3 in c:\\users\\ashutosh.somvanshi\\documents\\augment-projects\\promptengineeringguide\\.venv\\lib\\site-packages (from huggingface-hub<1.0,>=0.30.0->transformers) (4.14.0)\n",
      "Requirement already satisfied: sympy>=1.13.3 in c:\\users\\ashutosh.somvanshi\\documents\\augment-projects\\promptengineeringguide\\.venv\\lib\\site-packages (from torch) (1.14.0)\n",
      "Requirement already satisfied: networkx in c:\\users\\ashutosh.somvanshi\\documents\\augment-projects\\promptengineeringguide\\.venv\\lib\\site-packages (from torch) (3.4.2)\n",
      "Requirement already satisfied: jinja2 in c:\\users\\ashutosh.somvanshi\\documents\\augment-projects\\promptengineeringguide\\.venv\\lib\\site-packages (from torch) (3.1.6)\n",
      "Requirement already satisfied: mpmath<1.4,>=1.1.0 in c:\\users\\ashutosh.somvanshi\\documents\\augment-projects\\promptengineeringguide\\.venv\\lib\\site-packages (from sympy>=1.13.3->torch) (1.3.0)\n",
      "Requirement already satisfied: colorama in c:\\users\\ashutosh.somvanshi\\documents\\augment-projects\\promptengineeringguide\\.venv\\lib\\site-packages (from tqdm>=4.27->transformers) (0.4.6)\n",
      "Requirement already satisfied: MarkupSafe>=2.0 in c:\\users\\ashutosh.somvanshi\\documents\\augment-projects\\promptengineeringguide\\.venv\\lib\\site-packages (from jinja2->torch) (3.0.2)\n",
      "Requirement already satisfied: charset_normalizer<4,>=2 in c:\\users\\ashutosh.somvanshi\\documents\\augment-projects\\promptengineeringguide\\.venv\\lib\\site-packages (from requests->transformers) (3.4.2)\n",
      "Requirement already satisfied: idna<4,>=2.5 in c:\\users\\ashutosh.somvanshi\\documents\\augment-projects\\promptengineeringguide\\.venv\\lib\\site-packages (from requests->transformers) (3.10)\n",
      "Requirement already satisfied: urllib3<3,>=1.21.1 in c:\\users\\ashutosh.somvanshi\\documents\\augment-projects\\promptengineeringguide\\.venv\\lib\\site-packages (from requests->transformers) (2.5.0)\n",
      "Requirement already satisfied: certifi>=2017.4.17 in c:\\users\\ashutosh.somvanshi\\documents\\augment-projects\\promptengineeringguide\\.venv\\lib\\site-packages (from requests->transformers) (2025.6.15)\n"
     ]
    }
   ],
   "source": [
    "# Install required packages\n",
    "!pip install transformers torch"
   ]
  },
  {
   "cell_type": "markdown",
   "id": "8880956d",
   "metadata": {},
   "source": [
    "## Intent Detection\n",
    "\n",
    "Intent detection helps identify what a user wants to accomplish with their utterance. We'll use zero-shot classification to determine the intent without training a specific model."
   ]
  },
  {
   "cell_type": "code",
   "execution_count": null,
   "id": "4d5decf1",
   "metadata": {},
   "outputs": [
    {
     "data": {
      "application/vnd.jupyter.widget-view+json": {
       "model_id": "db43e8c9d0654e4386810c8fb6346a49",
       "version_major": 2,
       "version_minor": 0
      },
      "text/plain": [
       "config.json: 0.00B [00:00, ?B/s]"
      ]
     },
     "metadata": {},
     "output_type": "display_data"
    },
    {
     "name": "stderr",
     "output_type": "stream",
     "text": [
      "c:\\Users\\ashutosh.somvanshi\\Documents\\augment-projects\\PromptEngineeringGuide\\.venv\\lib\\site-packages\\huggingface_hub\\file_download.py:143: UserWarning: `huggingface_hub` cache-system uses symlinks by default to efficiently store duplicated files but your machine does not support them in C:\\Users\\ashutosh.somvanshi\\.cache\\huggingface\\hub\\models--facebook--bart-large-mnli. Caching files will still work but in a degraded version that might require more space on your disk. This warning can be disabled by setting the `HF_HUB_DISABLE_SYMLINKS_WARNING` environment variable. For more details, see https://huggingface.co/docs/huggingface_hub/how-to-cache#limitations.\n",
      "To support symlinks on Windows, you either need to activate Developer Mode or to run Python as an administrator. In order to activate developer mode, see this article: https://docs.microsoft.com/en-us/windows/apps/get-started/enable-your-device-for-development\n",
      "  warnings.warn(message)\n",
      "Xet Storage is enabled for this repo, but the 'hf_xet' package is not installed. Falling back to regular HTTP download. For better performance, install the package with: `pip install huggingface_hub[hf_xet]` or `pip install hf_xet`\n"
     ]
    },
    {
     "data": {
      "application/vnd.jupyter.widget-view+json": {
       "model_id": "1de3bbc2a1be4fd384db6ab885178bca",
       "version_major": 2,
       "version_minor": 0
      },
      "text/plain": [
       "model.safetensors:   0%|          | 0.00/1.63G [00:00<?, ?B/s]"
      ]
     },
     "metadata": {},
     "output_type": "display_data"
    },
    {
     "name": "stderr",
     "output_type": "stream",
     "text": [
      "Xet Storage is enabled for this repo, but the 'hf_xet' package is not installed. Falling back to regular HTTP download. For better performance, install the package with: `pip install huggingface_hub[hf_xet]` or `pip install hf_xet`\n"
     ]
    },
    {
     "data": {
      "application/vnd.jupyter.widget-view+json": {
       "model_id": "3c90e979b01849378bb2ab09730ea2ce",
       "version_major": 2,
       "version_minor": 0
      },
      "text/plain": [
       "model.safetensors:  15%|#5        | 294M/1.92G [00:00<?, ?B/s]"
      ]
     },
     "metadata": {},
     "output_type": "display_data"
    },
    {
     "data": {
      "application/vnd.jupyter.widget-view+json": {
       "model_id": "fbedf36778e94a32a6a8373fabd96ee4",
       "version_major": 2,
       "version_minor": 0
      },
      "text/plain": [
       "tokenizer_config.json:   0%|          | 0.00/26.0 [00:00<?, ?B/s]"
      ]
     },
     "metadata": {},
     "output_type": "display_data"
    },
    {
     "data": {
      "application/vnd.jupyter.widget-view+json": {
       "model_id": "200b79a1897046878be775be9e89aca3",
       "version_major": 2,
       "version_minor": 0
      },
      "text/plain": [
       "vocab.json: 0.00B [00:00, ?B/s]"
      ]
     },
     "metadata": {},
     "output_type": "display_data"
    },
    {
     "data": {
      "application/vnd.jupyter.widget-view+json": {
       "model_id": "eeba893973c5450493173e491a05d3bc",
       "version_major": 2,
       "version_minor": 0
      },
      "text/plain": [
       "merges.txt: 0.00B [00:00, ?B/s]"
      ]
     },
     "metadata": {},
     "output_type": "display_data"
    },
    {
     "data": {
      "application/vnd.jupyter.widget-view+json": {
       "model_id": "27030316fe5a4f8993df457340cb795b",
       "version_major": 2,
       "version_minor": 0
      },
      "text/plain": [
       "tokenizer.json: 0.00B [00:00, ?B/s]"
      ]
     },
     "metadata": {},
     "output_type": "display_data"
    },
    {
     "name": "stderr",
     "output_type": "stream",
     "text": [
      "Device set to use cpu\n"
     ]
    },
    {
     "name": "stdout",
     "output_type": "stream",
     "text": [
      "User Input: I want to book a flight to Paris next week.\n",
      "\n",
      "Intent Classification Results:\n",
      "  book_flight: 0.4001\n",
      "  get_directions: 0.2047\n",
      "  check_weather: 0.1389\n",
      "  play_music: 0.1300\n",
      "  order_food: 0.0984\n",
      "  cancel_booking: 0.0278\n",
      "\n",
      "Predicted Intent: book_flight (confidence: 0.4001)\n"
     ]
    },
    {
     "ename": "",
     "evalue": "",
     "output_type": "error",
     "traceback": [
      "\u001b[1;31mThe Kernel crashed while executing code in the current cell or a previous cell. \n",
      "\u001b[1;31mPlease review the code in the cell(s) to identify a possible cause of the failure. \n",
      "\u001b[1;31mClick <a href='https://aka.ms/vscodeJupyterKernelCrash'>here</a> for more info. \n",
      "\u001b[1;31mView Jupyter <a href='command:jupyter.viewOutput'>log</a> for further details."
     ]
    }
   ],
   "source": [
    "from transformers import pipeline\n",
    "\n",
    "# Initialize the zero-shot classification pipeline for intent detection\n",
    "intent_classifier = pipeline('zero-shot-classification', model='facebook/bart-large-mnli')\n",
    "\n",
    "# Define possible intents\n",
    "candidate_labels = ['book_flight', 'check_weather', 'play_music', 'order_food', 'cancel_booking', 'get_directions']\n",
    "\n",
    "# Example user utterance\n",
    "text = \"I want to book a flight to Paris next week.\"\n",
    "\n",
    "# Perform intent detection\n",
    "result = intent_classifier(text, candidate_labels)\n",
    "\n",
    "print(\"User Input:\", text)\n",
    "print(\"\\nIntent Classification Results:\")\n",
    "for label, score in zip(result['labels'], result['scores']):\n",
    "    print(f\"  {label}: {score:.4f}\")\n",
    "print(f\"\\nPredicted Intent: {result['labels'][0]} (confidence: {result['scores'][0]:.4f})\")"
   ]
  },
  {
   "cell_type": "markdown",
   "id": "d3f72841",
   "metadata": {},
   "source": [
    "## Entity Extraction\n",
    "\n",
    "Entity extraction identifies and extracts specific pieces of information (entities) from user input, such as locations, dates, names, etc."
   ]
  },
  {
   "cell_type": "code",
   "execution_count": null,
   "id": "97c83c1c",
   "metadata": {},
   "outputs": [],
   "source": [
    "# Initialize the NER pipeline for entity extraction\n",
    "ner_pipeline = pipeline('ner', model='dbmdz/bert-large-cased-finetuned-conll03-english', grouped_entities=True)\n",
    "\n",
    "# Example text with various entities\n",
    "text = \"Book a flight from New York to Paris on June 10th for John Smith.\"\n",
    "\n",
    "# Extract entities\n",
    "entities = ner_pipeline(text)\n",
    "\n",
    "print(\"User Input:\", text)\n",
    "print(\"\\nExtracted Entities:\")\n",
    "for entity in entities:\n",
    "    print(f\"  {entity['word']}: {entity['entity_group']} (confidence: {entity['score']:.4f})\")\n",
    "\n",
    "# Additional example with more complex entities\n",
    "print(\"\\n\" + \"=\"*50)\n",
    "text2 = \"I need to cancel my reservation at the Hilton Hotel in London for tomorrow at 7 PM.\"\n",
    "entities2 = ner_pipeline(text2)\n",
    "\n",
    "print(\"User Input:\", text2)\n",
    "print(\"\\nExtracted Entities:\")\n",
    "for entity in entities2:\n",
    "    print(f\"  {entity['word']}: {entity['entity_group']} (confidence: {entity['score']:.4f})\")"
   ]
  },
  {
   "cell_type": "markdown",
   "id": "175fade2",
   "metadata": {},
   "source": [
    "## Combined CLU Example\n",
    "\n",
    "Let's combine both intent detection and entity extraction to create a complete conversational language understanding system."
   ]
  },
  {
   "cell_type": "code",
   "execution_count": null,
   "id": "1b82f58a",
   "metadata": {},
   "outputs": [],
   "source": [
    "def analyze_user_input(text, intent_labels=None):\n",
    "    \"\"\"\n",
    "    Complete CLU analysis combining intent detection and entity extraction\n",
    "    \"\"\"\n",
    "    if intent_labels is None:\n",
    "        intent_labels = ['book_flight', 'check_weather', 'play_music', 'order_food', \n",
    "                        'cancel_booking', 'get_directions', 'make_reservation']\n",
    "    \n",
    "    # Intent Detection\n",
    "    intent_result = intent_classifier(text, intent_labels)\n",
    "    \n",
    "    # Entity Extraction\n",
    "    entities = ner_pipeline(text)\n",
    "    \n",
    "    # Format results\n",
    "    analysis = {\n",
    "        'input': text,\n",
    "        'intent': {\n",
    "            'predicted': intent_result['labels'][0],\n",
    "            'confidence': intent_result['scores'][0],\n",
    "            'all_scores': dict(zip(intent_result['labels'], intent_result['scores']))\n",
    "        },\n",
    "        'entities': [\n",
    "            {\n",
    "                'text': entity['word'],\n",
    "                'label': entity['entity_group'],\n",
    "                'confidence': entity['score']\n",
    "            }\n",
    "            for entity in entities\n",
    "        ]\n",
    "    }\n",
    "    \n",
    "    return analysis\n",
    "\n",
    "# Test the combined function\n",
    "test_utterances = [\n",
    "    \"I want to book a flight from New York to Tokyo on December 15th\",\n",
    "    \"What's the weather like in San Francisco today?\",\n",
    "    \"Play some jazz music by Miles Davis\",\n",
    "    \"Cancel my dinner reservation at Le Bernardin for tonight\"\n",
    "]\n",
    "\n",
    "for utterance in test_utterances:\n",
    "    print(\"=\"*60)\n",
    "    result = analyze_user_input(utterance)\n",
    "    \n",
    "    print(f\"Input: {result['input']}\")\n",
    "    print(f\"Intent: {result['intent']['predicted']} (confidence: {result['intent']['confidence']:.4f})\")\n",
    "    print(\"Entities:\")\n",
    "    for entity in result['entities']:\n",
    "        print(f\"  - {entity['text']}: {entity['label']} ({entity['confidence']:.4f})\")\n",
    "    print()"
   ]
  },
  {
   "cell_type": "markdown",
   "id": "3cf56dd7",
   "metadata": {},
   "source": [
    "## Interactive Experimentation\n",
    "\n",
    "Try modifying the text and candidate labels below to experiment with different CLU scenarios. You can add your own intents and test various user utterances."
   ]
  },
  {
   "cell_type": "code",
   "execution_count": null,
   "id": "5504b900",
   "metadata": {},
   "outputs": [],
   "source": [
    "# Experiment with your own examples\n",
    "# Modify these variables to test different scenarios\n",
    "\n",
    "# Your custom intent labels\n",
    "custom_intents = [\n",
    "    'book_flight', 'check_weather', 'play_music', 'order_food',\n",
    "    'make_reservation', 'cancel_booking', 'get_directions', 'set_reminder'\n",
    "]\n",
    "\n",
    "# Your test utterance\n",
    "user_input = \"Remind me to call my doctor tomorrow at 3 PM\"\n",
    "\n",
    "# Analyze the input\n",
    "result = analyze_user_input(user_input, custom_intents)\n",
    "\n",
    "print(\"🎯 CLU Analysis Results\")\n",
    "print(\"=\"*40)\n",
    "print(f\"📝 Input: {result['input']}\")\n",
    "print(f\"🎯 Intent: {result['intent']['predicted']}\")\n",
    "print(f\"📊 Confidence: {result['intent']['confidence']:.4f}\")\n",
    "print(\"\\n🏷️  Entities Found:\")\n",
    "if result['entities']:\n",
    "    for entity in result['entities']:\n",
    "        print(f\"   • {entity['text']} → {entity['label']} ({entity['confidence']:.4f})\")\n",
    "else:\n",
    "    print(\"   • No entities detected\")\n",
    "\n",
    "print(\"\\n📈 All Intent Scores:\")\n",
    "for intent, score in list(result['intent']['all_scores'].items())[:5]:  # Top 5\n",
    "    print(f\"   • {intent}: {score:.4f}\")"
   ]
  }
 ],
 "metadata": {
  "kernelspec": {
   "display_name": ".venv (3.10.11)",
   "language": "python",
   "name": "python3"
  },
  "language_info": {
   "codemirror_mode": {
    "name": "ipython",
    "version": 3
   },
   "file_extension": ".py",
   "mimetype": "text/x-python",
   "name": "python",
   "nbconvert_exporter": "python",
   "pygments_lexer": "ipython3",
   "version": "3.10.11"
  }
 },
 "nbformat": 4,
 "nbformat_minor": 5
}
