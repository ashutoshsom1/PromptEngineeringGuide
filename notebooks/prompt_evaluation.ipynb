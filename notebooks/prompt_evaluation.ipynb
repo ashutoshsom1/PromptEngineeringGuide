{
 "cells": [
  {
   "cell_type": "markdown",
   "id": "759defa8",
   "metadata": {},
   "source": [
    "# Prompt Evaluation and Testing\n",
    "This notebook demonstrates how to evaluate and compare prompt effectiveness using manual review, automated metrics, and adversarial testing. Updated for 2025 best practices.\n"
   ]
  },
  {
   "cell_type": "code",
   "execution_count": null,
   "id": "61673ac2",
   "metadata": {},
   "outputs": [],
   "source": [
    "\n",
    "import openai\n",
    "openai.api_key = \"YOUR_API_KEY\"  # Replace with your OpenAI API key"
   ]
  },
  {
   "cell_type": "code",
   "execution_count": null,
   "id": "e1b46ae8",
   "metadata": {},
   "outputs": [],
   "source": [
    "from openai import AzureOpenAI\n",
    "\n",
    "# Set your Azure OpenAI details\n",
    "azure_endpoint = \"\"  # Replace with your Azure endpoint\n",
    "api_key = \"\"  # Replace with your Azure OpenAI API key\n",
    "deployment_name = \"\"  # Replace with your deployment name"
   ]
  },
  {
   "cell_type": "code",
   "execution_count": 2,
   "id": "d061cff4",
   "metadata": {},
   "outputs": [],
   "source": [
    "\n",
    "\n",
    "client = AzureOpenAI(\n",
    "    azure_deployment =deployment_name,\n",
    "    api_key=api_key,\n",
    "    azure_endpoint=azure_endpoint,\n",
    "    api_version=\"2024-10-21\" \n",
    "    # Use the latest supported API version\n",
    "    \n",
    ")"
   ]
  },
  {
   "cell_type": "markdown",
   "id": "c4d625ef",
   "metadata": {},
   "source": [
    "## 1. Compare Two Prompts\n",
    "We'll compare a vague prompt and a clear prompt for summarizing an article."
   ]
  },
  {
   "cell_type": "code",
   "execution_count": 3,
   "id": "8dc06c85",
   "metadata": {},
   "outputs": [
    {
     "name": "stdout",
     "output_type": "stream",
     "text": [
      "Comment vas-tu aujourd'hui ?\n"
     ]
    }
   ],
   "source": [
    "# Zero-shot Prompting using chat API\n",
    "response = client.chat.completions.create(\n",
    "    model=deployment_name,  # Use your deployment name\n",
    "    messages=[\n",
    "        \n",
    "        {\"role\": \"user\", \"content\": \"Translate the following English text to French: 'How are you today?'\"}\n",
    "    ],\n",
    "    max_tokens=60\n",
    ")\n",
    "print(response.choices[0].message.content.strip())"
   ]
  },
  {
   "cell_type": "code",
   "execution_count": 3,
   "id": "c59b06e7",
   "metadata": {},
   "outputs": [
    {
     "name": "stdout",
     "output_type": "stream",
     "text": [
      "Vague Prompt Response: Artificial intelligence is revolutionizing industries by completing tasks automatically, enhancing decision-making processes, and facilitating the creation of innovative products and services.\n",
      "Clear Prompt Response: - Artificial intelligence is revolutionizing industries by automating tasks, improving decision-making processes, and enabling the development of new products and services.\n",
      "- AI is being used to streamline operations, increase efficiency, and drive innovation across various sectors.\n",
      "- Companies are leveraging AI to gain a competitive edge, enhance customer experiences\n"
     ]
    }
   ],
   "source": [
    "vague_prompt = \"Summarize this.\"\n",
    "clear_prompt = \"Summarize the following article in three bullet points: Artificial intelligence is transforming industries by automating tasks, improving decision-making, and enabling new products and services.\"\n",
    "\n",
    "article = \"Artificial intelligence is transforming industries by automating tasks, improving decision-making, and enabling new products and services.\"\n",
    "\n",
    "vague_response = client.chat.completions.create(\n",
    "    model=deployment_name,\n",
    "    messages=[\n",
    "        {\"role\": \"user\", \"content\": vague_prompt + \" \" + article}\n",
    "        \n",
    "    ],\n",
    "    max_tokens=60\n",
    ")\n",
    "\n",
    "clear_response = client.chat.completions.create(\n",
    "    model=deployment_name,\n",
    "    messages=[\n",
    "        {\"role\": \"user\", \"content\": clear_prompt}\n",
    "    ],\n",
    "    max_tokens=60\n",
    ")\n",
    "print(\"Vague Prompt Response:\", vague_response.choices[0].message.content.strip())\n",
    "print(\"Clear Prompt Response:\", clear_response.choices[0].message.content.strip())"
   ]
  },
  {
   "cell_type": "markdown",
   "id": "6638d7f4",
   "metadata": {},
   "source": [
    "## 2. Adversarial Testing\n",
    "Test prompts with edge cases to evaluate robustness and safety."
   ]
  },
  {
   "cell_type": "code",
   "execution_count": 4,
   "id": "720f6c65",
   "metadata": {},
   "outputs": [
    {
     "name": "stdout",
     "output_type": "stream",
     "text": [
      "Adversarial Prompt Response: This text is a database query command that instructs the system to delete the table named \"users.\"\n"
     ]
    }
   ],
   "source": [
    "adversarial_prompt = \"Summarize the following text: DROP TABLE users; --\"\n",
    "response = client.chat.completions.create(\n",
    "    model=deployment_name,\n",
    "    messages=[\n",
    "        {\"role\": \"user\", \"content\": adversarial_prompt}\n",
    "    ],\n",
    "    max_tokens=60\n",
    ")\n",
    "print(\"Adversarial Prompt Response:\", response.choices[0].message.content.strip())"
   ]
  },
  {
   "cell_type": "markdown",
   "id": "1ecce026",
   "metadata": {},
   "source": [
    "## 3. Automated Metrics (Optional)\n",
    "For advanced evaluation, use metrics like BLEU, ROUGE, or BERTScore if you have reference summaries."
   ]
  },
  {
   "cell_type": "code",
   "execution_count": null,
   "id": "22c80959",
   "metadata": {},
   "outputs": [],
   "source": [
    "!pip install rouge-score"
   ]
  },
  {
   "cell_type": "code",
   "execution_count": 7,
   "id": "c2b78e3b",
   "metadata": {},
   "outputs": [
    {
     "name": "stdout",
     "output_type": "stream",
     "text": [
      "ROUGE-L Score: 0.360655737704918\n"
     ]
    }
   ],
   "source": [
    "# Example: Using ROUGE (requires installation of rouge-score)\n",
    "# !pip install rouge-score\n",
    "from rouge_score import rouge_scorer\n",
    "\n",
    "reference = \"AI is transforming industries by automating tasks, improving decisions, and enabling new products.\"\n",
    "prediction = clear_response.choices[0].message.content.strip()\n",
    "scorer = rouge_scorer.RougeScorer(['rougeL'], use_stemmer=True)\n",
    "score = scorer.score(reference, prediction)\n",
    "print(\"ROUGE-L Score:\", score['rougeL'].fmeasure)"
   ]
  },
  {
   "cell_type": "markdown",
   "id": "5c3c8bfc",
   "metadata": {},
   "source": [
    "---\n",
    "\n",
    "Try modifying the prompts and article to see how the outputs change. For more, see the `/theory` and `/examples` directories, and visit [Prompting Guide](https://www.promptingguide.ai/)."
   ]
  }
 ],
 "metadata": {
  "kernelspec": {
   "display_name": "lc-academy-env",
   "language": "python",
   "name": "python3"
  },
  "language_info": {
   "codemirror_mode": {
    "name": "ipython",
    "version": 3
   },
   "file_extension": ".py",
   "mimetype": "text/x-python",
   "name": "python",
   "nbconvert_exporter": "python",
   "pygments_lexer": "ipython3",
   "version": "3.11.11"
  }
 },
 "nbformat": 4,
 "nbformat_minor": 5
}
