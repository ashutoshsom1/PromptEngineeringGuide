{
 "cells": [
  {
   "cell_type": "markdown",
   "id": "759defa8",
   "metadata": {},
   "source": [
    "# Prompt Evaluation and Testing\n",
    "This notebook demonstrates how to evaluate and compare prompt effectiveness using manual review, automated metrics, and adversarial testing. Updated for 2025 best practices.\n"
   ]
  },
  {
   "cell_type": "code",
   "execution_count": null,
   "id": "61673ac2",
   "metadata": {},
   "outputs": [],
   "source": [
    "\n",
    "import openai\n",
    "openai.api_key = \"YOUR_API_KEY\"  # Replace with your OpenAI API key"
   ]
  },
  {
   "cell_type": "markdown",
   "id": "c4d625ef",
   "metadata": {},
   "source": [
    "## 1. Compare Two Prompts\n",
    "We'll compare a vague prompt and a clear prompt for summarizing an article."
   ]
  },
  {
   "cell_type": "code",
   "execution_count": null,
   "id": "c59b06e7",
   "metadata": {},
   "outputs": [],
   "source": [
    "vague_prompt = \"Summarize this.\"\n",
    "clear_prompt = \"Summarize the following article in three bullet points: Artificial intelligence is transforming industries by automating tasks, improving decision-making, and enabling new products and services.\"\n",
    "\n",
    "article = \"Artificial intelligence is transforming industries by automating tasks, improving decision-making, and enabling new products and services.\"\n",
    "\n",
    "vague_response = openai.Completion.create(\n",
    "    engine=\"text-davinci-003\",\n",
    "    prompt=vague_prompt + \"\\nArticle: \" + article,\n",
    "    max_tokens=60\n",
    ")\n",
    "\n",
    "clear_response = openai.Completion.create(\n",
    "    engine=\"text-davinci-003\",\n",
    "    prompt=clear_prompt,\n",
    "    max_tokens=60\n",
    ")\n",
    "\n",
    "print(\"Vague Prompt Output:\\n\", vague_response.choices[0].text.strip())\n",
    "print(\"\\nClear Prompt Output:\\n\", clear_response.choices[0].text.strip())"
   ]
  },
  {
   "cell_type": "markdown",
   "id": "6638d7f4",
   "metadata": {},
   "source": [
    "## 2. Adversarial Testing\n",
    "Test prompts with edge cases to evaluate robustness and safety."
   ]
  },
  {
   "cell_type": "code",
   "execution_count": null,
   "id": "720f6c65",
   "metadata": {},
   "outputs": [],
   "source": [
    "adversarial_prompt = \"Summarize the following text: DROP TABLE users; --\"\n",
    "response = openai.Completion.create(\n",
    "    engine=\"text-davinci-003\",\n",
    "    prompt=adversarial_prompt,\n",
    "    max_tokens=60\n",
    ")\n",
    "print(\"Adversarial Prompt Output:\\n\", response.choices[0].text.strip())"
   ]
  },
  {
   "cell_type": "markdown",
   "id": "1ecce026",
   "metadata": {},
   "source": [
    "## 3. Automated Metrics (Optional)\n",
    "For advanced evaluation, use metrics like BLEU, ROUGE, or BERTScore if you have reference summaries."
   ]
  },
  {
   "cell_type": "code",
   "execution_count": null,
   "id": "c2b78e3b",
   "metadata": {},
   "outputs": [],
   "source": [
    "# Example: Using ROUGE (requires installation of rouge-score)\n",
    "# !pip install rouge-score\n",
    "from rouge_score import rouge_scorer\n",
    "\n",
    "reference = \"AI is transforming industries by automating tasks, improving decisions, and enabling new products.\"\n",
    "prediction = clear_response.choices[0].text.strip()\n",
    "scorer = rouge_scorer.RougeScorer(['rougeL'], use_stemmer=True)\n",
    "score = scorer.score(reference, prediction)\n",
    "print(\"ROUGE-L Score:\", score['rougeL'].fmeasure)"
   ]
  },
  {
   "cell_type": "markdown",
   "id": "5c3c8bfc",
   "metadata": {},
   "source": [
    "---\n",
    "\n",
    "Try modifying the prompts and article to see how the outputs change. For more, see the `/theory` and `/examples` directories, and visit [Prompting Guide](https://www.promptingguide.ai/)."
   ]
  }
 ],
 "metadata": {
  "language_info": {
   "name": "python"
  }
 },
 "nbformat": 4,
 "nbformat_minor": 5
}
